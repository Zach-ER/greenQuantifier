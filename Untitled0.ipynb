{
 "metadata": {
  "name": "",
  "signature": "sha256:4654ce7cbdf542fcf3b4f0b043248f6c14868c147a3c57fdae388958fb8f02ae"
 },
 "nbformat": 3,
 "nbformat_minor": 0,
 "worksheets": [
  {
   "cells": [
    {
     "cell_type": "code",
     "collapsed": false,
     "input": [
      "import urlfuncs as URLF \n"
     ],
     "language": "python",
     "metadata": {},
     "outputs": [],
     "prompt_number": 1
    },
    {
     "cell_type": "code",
     "collapsed": false,
     "input": [],
     "language": "python",
     "metadata": {},
     "outputs": []
    }
   ],
   "metadata": {}
  }
 ]
}